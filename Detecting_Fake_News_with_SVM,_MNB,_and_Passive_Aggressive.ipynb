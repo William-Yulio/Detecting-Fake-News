{
  "nbformat": 4,
  "nbformat_minor": 0,
  "metadata": {
    "colab": {
      "name": "Detecting Fake News with SVM, MNB, and Passive Aggressive",
      "provenance": [],
      "collapsed_sections": [
        "ZT8n1r8CMo7I",
        "P6tABtGGMtRn",
        "g7F5VgkRM26F",
        "9k16WlQjM8pX",
        "f76-BykuXuFG",
        "vVun4WzvGjDX",
        "pAO06XQkGd3I",
        "04agCTT3GTTi"
      ]
    },
    "kernelspec": {
      "name": "python3",
      "display_name": "Python 3"
    },
    "language_info": {
      "name": "python"
    }
  },
  "cells": [
    {
      "cell_type": "markdown",
      "metadata": {
        "id": "ZT8n1r8CMo7I"
      },
      "source": [
        "## Import Library"
      ]
    },
    {
      "cell_type": "code",
      "metadata": {
        "id": "zyMu_THy42vA"
      },
      "source": [
        "import numpy as np\n",
        "import pandas as pd\n",
        "from sklearn.model_selection import train_test_split\n",
        "from sklearn.feature_extraction.text import TfidfVectorizer\n",
        "from sklearn.linear_model import PassiveAggressiveClassifier\n",
        "from sklearn.naive_bayes import MultinomialNB\n",
        "import nltk\n",
        "import re\n",
        "from nltk.corpus import stopwords\n",
        "from nltk.tokenize import word_tokenize \n",
        "from nltk.stem import PorterStemmer\n",
        "from nltk import WordNetLemmatizer\n",
        "from sklearn import model_selection, naive_bayes, svm\n",
        "from sklearn.metrics import accuracy_score, confusion_matrix \n",
        "from sklearn.metrics import plot_confusion_matrix\n",
        "import matplotlib.pyplot as plt\n",
        "import seaborn as sns\n",
        "import timeit\n",
        "import array"
      ],
      "execution_count": null,
      "outputs": []
    },
    {
      "cell_type": "markdown",
      "metadata": {
        "id": "P6tABtGGMtRn"
      },
      "source": [
        "## Read Dataset"
      ]
    },
    {
      "cell_type": "code",
      "metadata": {
        "colab": {
          "base_uri": "https://localhost:8080/"
        },
        "id": "YggHOBFP57wc",
        "outputId": "4e96d442-63eb-41ea-a8d7-9d6b937272ea"
      },
      "source": [
        "df = pd.read_csv('/content/fake_or_real_news.csv')\n",
        "df.fillna(' ')\n",
        "df.shape\n",
        "df.head()"
      ],
      "execution_count": null,
      "outputs": [
        {
          "output_type": "execute_result",
          "data": {
            "text/html": [
              "<div>\n",
              "<style scoped>\n",
              "    .dataframe tbody tr th:only-of-type {\n",
              "        vertical-align: middle;\n",
              "    }\n",
              "\n",
              "    .dataframe tbody tr th {\n",
              "        vertical-align: top;\n",
              "    }\n",
              "\n",
              "    .dataframe thead th {\n",
              "        text-align: right;\n",
              "    }\n",
              "</style>\n",
              "<table border=\"1\" class=\"dataframe\">\n",
              "  <thead>\n",
              "    <tr style=\"text-align: right;\">\n",
              "      <th></th>\n",
              "      <th>Unnamed: 0</th>\n",
              "      <th>title</th>\n",
              "      <th>text</th>\n",
              "      <th>label</th>\n",
              "    </tr>\n",
              "  </thead>\n",
              "  <tbody>\n",
              "    <tr>\n",
              "      <th>0</th>\n",
              "      <td>8476</td>\n",
              "      <td>You Can Smell Hillary’s Fear</td>\n",
              "      <td>Daniel Greenfield, a Shillman Journalism Fello...</td>\n",
              "      <td>FAKE</td>\n",
              "    </tr>\n",
              "    <tr>\n",
              "      <th>1</th>\n",
              "      <td>10294</td>\n",
              "      <td>Watch The Exact Moment Paul Ryan Committed Pol...</td>\n",
              "      <td>Google Pinterest Digg Linkedin Reddit Stumbleu...</td>\n",
              "      <td>FAKE</td>\n",
              "    </tr>\n",
              "    <tr>\n",
              "      <th>2</th>\n",
              "      <td>3608</td>\n",
              "      <td>Kerry to go to Paris in gesture of sympathy</td>\n",
              "      <td>U.S. Secretary of State John F. Kerry said Mon...</td>\n",
              "      <td>REAL</td>\n",
              "    </tr>\n",
              "    <tr>\n",
              "      <th>3</th>\n",
              "      <td>10142</td>\n",
              "      <td>Bernie supporters on Twitter erupt in anger ag...</td>\n",
              "      <td>— Kaydee King (@KaydeeKing) November 9, 2016 T...</td>\n",
              "      <td>FAKE</td>\n",
              "    </tr>\n",
              "    <tr>\n",
              "      <th>4</th>\n",
              "      <td>875</td>\n",
              "      <td>The Battle of New York: Why This Primary Matters</td>\n",
              "      <td>It's primary day in New York and front-runners...</td>\n",
              "      <td>REAL</td>\n",
              "    </tr>\n",
              "  </tbody>\n",
              "</table>\n",
              "</div>"
            ],
            "text/plain": [
              "   Unnamed: 0  ... label\n",
              "0        8476  ...  FAKE\n",
              "1       10294  ...  FAKE\n",
              "2        3608  ...  REAL\n",
              "3       10142  ...  FAKE\n",
              "4         875  ...  REAL\n",
              "\n",
              "[5 rows x 4 columns]"
            ]
          },
          "metadata": {
            "tags": []
          },
          "execution_count": 239
        }
      ]
    },
    {
      "cell_type": "code",
      "metadata": {
        "id": "L81V1OFSUVKi"
      },
      "source": [
        "df[\"title\"]=df[\"title\"].str.lower()\n",
        "df[\"text\"]=df[\"text\"].str.lower()\n",
        "df[\"label\"]=df[\"label\"].str.lower()"
      ],
      "execution_count": null,
      "outputs": []
    },
    {
      "cell_type": "markdown",
      "metadata": {
        "id": "yTtHtmEjUyPd"
      },
      "source": [
        "# Pre-Process"
      ]
    },
    {
      "cell_type": "code",
      "metadata": {
        "id": "5hoGxOywUdjZ"
      },
      "source": [
        "# remove punctuation\n",
        "df['text'] = df['text'].apply(lambda x: re.sub('[^\\w\\s]', ' ', x))\n",
        "df['title'] = df['title'].apply(lambda x: re.sub('[^\\w\\s]', ' ', x))"
      ],
      "execution_count": null,
      "outputs": []
    },
    {
      "cell_type": "code",
      "metadata": {
        "id": "7OhULV2-UfAD"
      },
      "source": [
        "# remove one and two character words\n",
        "df['text'] = df['text'].apply(lambda x: re.sub(r'\\b\\w{1,3}\\b', '', x))\n",
        "df['title'] = df['title'].apply(lambda x: re.sub(r'\\b\\w{1,3}\\b', '', x))"
      ],
      "execution_count": null,
      "outputs": []
    },
    {
      "cell_type": "code",
      "metadata": {
        "id": "OM_QvNniUgyI"
      },
      "source": [
        "# remove numerical values\n",
        "df['text'] = df['text'].apply(lambda x: re.sub(r'[0-9]+', '', x))\n",
        "df['title'] = df['title'].apply(lambda x: re.sub(r'[0-9]+', '', x))"
      ],
      "execution_count": null,
      "outputs": []
    },
    {
      "cell_type": "code",
      "metadata": {
        "id": "Qq82IEgMUiSb"
      },
      "source": [
        "# \\s+ means all empty space (\\n, \\r, \\t)\n",
        "df['text'] = df['text'].apply(lambda x: re.sub('\\s+', ' ', x))\n",
        "df['title'] = df['title'].apply(lambda x: re.sub('\\s+', ' ', x))"
      ],
      "execution_count": null,
      "outputs": []
    },
    {
      "cell_type": "code",
      "metadata": {
        "colab": {
          "base_uri": "https://localhost:8080/"
        },
        "id": "fDgB54l0UIHG",
        "outputId": "4eba748b-d2be-4f10-8baf-c2a49c2940fb"
      },
      "source": [
        "labels = df.label\n",
        "labels.head()"
      ],
      "execution_count": null,
      "outputs": [
        {
          "output_type": "execute_result",
          "data": {
            "text/plain": [
              "0    fake\n",
              "1    fake\n",
              "2    real\n",
              "3    fake\n",
              "4    real\n",
              "Name: label, dtype: object"
            ]
          },
          "metadata": {
            "tags": []
          },
          "execution_count": 245
        }
      ]
    },
    {
      "cell_type": "markdown",
      "metadata": {
        "id": "uIJYm2vpSJ0a"
      },
      "source": [
        "# Split Dataset"
      ]
    },
    {
      "cell_type": "code",
      "metadata": {
        "id": "PNooJmauSILP"
      },
      "source": [
        "x_train, x_test, y_train, y_test = train_test_split(df['text'], labels, test_size=0.2, random_state=5)"
      ],
      "execution_count": null,
      "outputs": []
    },
    {
      "cell_type": "markdown",
      "metadata": {
        "id": "5w-jMlfkSS-X"
      },
      "source": [
        "# TF-IDF Vectorizer"
      ]
    },
    {
      "cell_type": "code",
      "metadata": {
        "id": "MPJVX0IoSPS4"
      },
      "source": [
        "tfidf_vectorizer=TfidfVectorizer(stop_words='english')\n",
        "\n",
        "# Fit, and transform train set, transform test set\n",
        "tfidf_train=tfidf_vectorizer.fit_transform(x_train) \n",
        "tfidf_test=tfidf_vectorizer.transform(x_test)"
      ],
      "execution_count": null,
      "outputs": []
    },
    {
      "cell_type": "markdown",
      "metadata": {
        "id": "WYWwh2PSSzoM"
      },
      "source": [
        "# Model"
      ]
    },
    {
      "cell_type": "code",
      "metadata": {
        "colab": {
          "base_uri": "https://localhost:8080/"
        },
        "id": "FW6FHJlESy0Y",
        "outputId": "c41bd3c4-4e64-43b2-f742-8c11233e10b8"
      },
      "source": [
        "# Initialize a PassiveAggressiveClassifier\n",
        "start = timeit.default_timer()\n",
        "pac=PassiveAggressiveClassifier(early_stopping= True, verbose=1)\n",
        "pac.fit(tfidf_train,y_train)\n",
        "\n",
        "# Predict on the test set\n",
        "y_pred = pac.predict(tfidf_test)\n",
        "stop = timeit.default_timer()\n",
        "print('Time: ', stop - start)  "
      ],
      "execution_count": null,
      "outputs": [
        {
          "output_type": "stream",
          "text": [
            "-- Epoch 1\n",
            "Norm: 37.88, NNZs: 44025, Bias: -0.603688, T: 4539, Avg. loss: 0.310081\n",
            "Total training time: 0.01 seconds.\n",
            "-- Epoch 2\n",
            "Norm: 43.84, NNZs: 44630, Bias: -0.567750, T: 9078, Avg. loss: 0.076784\n",
            "Total training time: 0.03 seconds.\n",
            "-- Epoch 3\n",
            "Norm: 46.47, NNZs: 44941, Bias: -0.560276, T: 13617, Avg. loss: 0.031620\n",
            "Total training time: 0.05 seconds.\n",
            "-- Epoch 4\n",
            "Norm: 47.78, NNZs: 45079, Bias: -0.546538, T: 18156, Avg. loss: 0.015554\n",
            "Total training time: 0.06 seconds.\n",
            "-- Epoch 5\n",
            "Norm: 48.35, NNZs: 45098, Bias: -0.542793, T: 22695, Avg. loss: 0.007780\n",
            "Total training time: 0.08 seconds.\n",
            "-- Epoch 6\n",
            "Norm: 48.63, NNZs: 45098, Bias: -0.547133, T: 27234, Avg. loss: 0.004734\n",
            "Total training time: 0.10 seconds.\n",
            "Convergence after 6 epochs took 0.10 seconds\n",
            "Time:  0.12746609800160513\n"
          ],
          "name": "stdout"
        }
      ]
    },
    {
      "cell_type": "code",
      "metadata": {
        "colab": {
          "base_uri": "https://localhost:8080/"
        },
        "id": "-80W8vS1S2o_",
        "outputId": "56af67ab-0bfd-4c14-8057-ce05394946a1"
      },
      "source": [
        "# fit the training dataset on the NB classifier\n",
        "# from sklearn.naive_bayes import MultinomialNB\n",
        "start1 = timeit.default_timer()\n",
        "Naive = MultinomialNB()\n",
        "Naive.fit(tfidf_train,y_train)\n",
        "# predict the labels on validation dataset\n",
        "predictions_NB = Naive.predict(tfidf_test)\n",
        "stop1 = timeit.default_timer()\n",
        "print('Time: ', stop1 - start1)  "
      ],
      "execution_count": null,
      "outputs": [
        {
          "output_type": "stream",
          "text": [
            "Time:  0.035514399998646695\n"
          ],
          "name": "stdout"
        }
      ]
    },
    {
      "cell_type": "code",
      "metadata": {
        "colab": {
          "base_uri": "https://localhost:8080/"
        },
        "id": "J5CSSOUpS_Di",
        "outputId": "1e0e9951-626b-4704-820b-eb38f3c88cbc"
      },
      "source": [
        "# Classifier - Algorithm - SVM\n",
        "# fit the training dataset on the classifier\n",
        "start2 = timeit.default_timer()\n",
        "SVM = svm.SVC()\n",
        "SVM.fit(tfidf_train,y_train)\n",
        "# predict the labels on validation dataset\n",
        "predictions_SVM = SVM.predict(tfidf_test)\n",
        "stop2 = timeit.default_timer()\n",
        "print('Time: ', stop2 - start2)  "
      ],
      "execution_count": null,
      "outputs": [
        {
          "output_type": "stream",
          "text": [
            "Time:  61.561791978001565\n"
          ],
          "name": "stdout"
        }
      ]
    },
    {
      "cell_type": "markdown",
      "metadata": {
        "id": "vVun4WzvGjDX"
      },
      "source": [
        "# Evaluation Passive Agrresive"
      ]
    },
    {
      "cell_type": "code",
      "metadata": {
        "colab": {
          "base_uri": "https://localhost:8080/"
        },
        "id": "_yiPxGZNiqkH",
        "outputId": "5ff49984-20f1-4b09-ba8c-d39b16a1c129"
      },
      "source": [
        "score_pac = accuracy_score(y_test,y_pred)\n",
        "acc1=round(score_pac*100,2)\n",
        "print(f'Passive Aggresive Classifier Accuracy: {round(score_pac*100,2)}%')\n",
        "time_pa=stop-start\n",
        "print('Time elapsed: ', stop - start)  "
      ],
      "execution_count": null,
      "outputs": [
        {
          "output_type": "stream",
          "text": [
            "Passive Aggresive Classifier Accuracy: 94.24%\n",
            "Time elapsed:  0.12746609800160513\n"
          ],
          "name": "stdout"
        }
      ]
    },
    {
      "cell_type": "code",
      "metadata": {
        "id": "TUlNMIeR7Tmh",
        "colab": {
          "base_uri": "https://localhost:8080/"
        },
        "outputId": "75bb653d-cd48-431f-efb4-64f664209310"
      },
      "source": [
        "matrix = confusion_matrix(y_test,y_pred)\n",
        "print (matrix)"
      ],
      "execution_count": null,
      "outputs": [
        {
          "output_type": "stream",
          "text": [
            "[[604  33]\n",
            " [ 40 590]]\n"
          ],
          "name": "stdout"
        }
      ]
    },
    {
      "cell_type": "code",
      "metadata": {
        "colab": {
          "base_uri": "https://localhost:8080/"
        },
        "id": "WqEmnPq3dC8D",
        "outputId": "431eb02c-4f6c-4208-b72e-bdd9f0be1ea0"
      },
      "source": [
        "group_names = ['True Negative','False Positive','False Negative','True Positive']\n",
        "group_counts = ['{0:0.0f}'.format(value) for value in\n",
        "                matrix.flatten()]\n",
        "group_percentages = ['{0:.2%}'.format(value) for value in\n",
        "                     matrix.flatten()/np.sum(matrix)]\n",
        "labels = [f'{v1}\\n{v2}\\n{v3}' for v1, v2, v3 in\n",
        "          zip(group_names,group_counts,group_percentages)]\n",
        "labels = np.asarray(labels).reshape(2,2)\n",
        "sns.heatmap(matrix, annot=labels, fmt='', cmap='Blues')"
      ],
      "execution_count": null,
      "outputs": [
        {
          "output_type": "execute_result",
          "data": {
            "text/plain": [
              "<matplotlib.axes._subplots.AxesSubplot at 0x7ff0b5e0b790>"
            ]
          },
          "metadata": {
            "tags": []
          },
          "execution_count": 253
        },
        {
          "output_type": "display_data",
          "data": {
            "image/png": "[encoded data removed]",
            "text/plain": [
              "<Figure size 432x288 with 2 Axes>"
            ]
          },
          "metadata": {
            "tags": [],
            "needs_background": "light"
          }
        }
      ]
    },
    {
      "cell_type": "markdown",
      "metadata": {
        "id": "pAO06XQkGd3I"
      },
      "source": [
        "# Evaluation NB"
      ]
    },
    {
      "cell_type": "code",
      "metadata": {
        "colab": {
          "base_uri": "https://localhost:8080/"
        },
        "id": "gG5KN09eFUmd",
        "outputId": "35a4794f-ec8f-49bb-856c-14a1926f9e62"
      },
      "source": [
        "score_pac1 = accuracy_score(y_test,predictions_NB)\n",
        "acc2=round(score_pac1*100,2)\n",
        "print(f'Naive Bayes: {round(score_pac1*100,2)}%')\n",
        "time_nb=stop1-start1\n",
        "print('Time elapsed: ', time_nb)  "
      ],
      "execution_count": null,
      "outputs": [
        {
          "output_type": "stream",
          "text": [
            "Naive Bayes: 82.64%\n",
            "Time elapsed:  0.035514399998646695\n"
          ],
          "name": "stdout"
        }
      ]
    },
    {
      "cell_type": "code",
      "metadata": {
        "colab": {
          "base_uri": "https://localhost:8080/"
        },
        "id": "wCeYxbhi8ma7",
        "outputId": "e1cf6328-a4fd-409d-deb7-671a48052bec"
      },
      "source": [
        "matrix1 = confusion_matrix(y_test,predictions_NB)\n",
        "print (matrix1)"
      ],
      "execution_count": null,
      "outputs": [
        {
          "output_type": "stream",
          "text": [
            "[[432 205]\n",
            " [ 15 615]]\n"
          ],
          "name": "stdout"
        }
      ]
    },
    {
      "cell_type": "code",
      "metadata": {
        "colab": {
          "base_uri": "https://localhost:8080/"
        },
        "id": "6UeWC-NtFd3e",
        "outputId": "3db4c657-bf97-4c96-d4cd-d7c3cf26d96f"
      },
      "source": [
        "group_names = ['True Negative','False Positive','False Negative','True Positive']\n",
        "group_counts = ['{0:0.0f}'.format(value) for value in\n",
        "                matrix1.flatten()]\n",
        "group_percentages = ['{0:.2%}'.format(value) for value in\n",
        "                     matrix1.flatten()/np.sum(matrix)]\n",
        "labels = [f'{v1}\\n{v2}\\n{v3}' for v1, v2, v3 in\n",
        "          zip(group_names,group_counts,group_percentages)]\n",
        "labels = np.asarray(labels).reshape(2,2)\n",
        "sns.heatmap(matrix1, annot=labels, fmt='', cmap='Blues')"
      ],
      "execution_count": null,
      "outputs": [
        {
          "output_type": "execute_result",
          "data": {
            "text/plain": [
              "<matplotlib.axes._subplots.AxesSubplot at 0x7ff0abe58d50>"
            ]
          },
          "metadata": {
            "tags": []
          },
          "execution_count": 256
        },
        {
          "output_type": "display_data",
          "data": {
            "image/png": "[encoded data removed]",
            "text/plain": [
              "<Figure size 432x288 with 2 Axes>"
            ]
          },
          "metadata": {
            "tags": [],
            "needs_background": "light"
          }
        }
      ]
    },
    {
      "cell_type": "markdown",
      "metadata": {
        "id": "04agCTT3GTTi"
      },
      "source": [
        "# Evaluation SVM"
      ]
    },
    {
      "cell_type": "code",
      "metadata": {
        "id": "X9o0KyxlvDlK",
        "colab": {
          "base_uri": "https://localhost:8080/"
        },
        "outputId": "c8823761-c8e6-45b2-dbfa-0cbb4b5c631e"
      },
      "source": [
        "score_pac2 = accuracy_score(y_test,predictions_SVM)\n",
        "acc3=round(score_pac2*100,2)\n",
        "print(f'svm: {round(score_pac2*100,2)}%')\n",
        "time_svm=stop2-start2\n",
        "print('Time elapsed: ', time_svm)  "
      ],
      "execution_count": null,
      "outputs": [
        {
          "output_type": "stream",
          "text": [
            "svm: 93.21%\n",
            "Time elapsed:  61.561791978001565\n"
          ],
          "name": "stdout"
        }
      ]
    },
    {
      "cell_type": "code",
      "metadata": {
        "colab": {
          "base_uri": "https://localhost:8080/"
        },
        "id": "j-PdVGk38oYa",
        "outputId": "4e5037ae-6991-421d-8d4b-799f3d960112"
      },
      "source": [
        "matrix2 = confusion_matrix(y_test,predictions_SVM)\n",
        "print (matrix2)"
      ],
      "execution_count": null,
      "outputs": [
        {
          "output_type": "stream",
          "text": [
            "[[606  31]\n",
            " [ 55 575]]\n"
          ],
          "name": "stdout"
        }
      ]
    },
    {
      "cell_type": "code",
      "metadata": {
        "colab": {
          "base_uri": "https://localhost:8080/"
        },
        "id": "yPFIfIhdGPbO",
        "outputId": "2c702822-ae4a-40a5-8787-97c6d6c16058"
      },
      "source": [
        "group_names = ['True Negative','False Positive','False Negative','True Positive']\n",
        "group_counts = ['{0:0.0f}'.format(value) for value in\n",
        "                matrix2.flatten()]\n",
        "group_percentages = ['{0:.2%}'.format(value) for value in\n",
        "                     matrix2.flatten()/np.sum(matrix)]\n",
        "labels = [f'{v1}\\n{v2}\\n{v3}' for v1, v2, v3 in\n",
        "          zip(group_names,group_counts,group_percentages)]\n",
        "labels = np.asarray(labels).reshape(2,2)\n",
        "sns.heatmap(matrix2, annot=labels, fmt='', cmap='Blues')"
      ],
      "execution_count": null,
      "outputs": [
        {
          "output_type": "execute_result",
          "data": {
            "text/plain": [
              "<matplotlib.axes._subplots.AxesSubplot at 0x7ff0abe5b4d0>"
            ]
          },
          "metadata": {
            "tags": []
          },
          "execution_count": 259
        },
        {
          "output_type": "display_data",
          "data": {
            "image/png": "[encoded data removed]",
            "text/plain": [
              "<Figure size 432x288 with 2 Axes>"
            ]
          },
          "metadata": {
            "tags": [],
            "needs_background": "light"
          }
        }
      ]
    },
    {
      "cell_type": "markdown",
      "metadata": {
        "id": "JtjXtLwCIz5d"
      },
      "source": [
        "# TLDR"
      ]
    },
    {
      "cell_type": "code",
      "metadata": {
        "colab": {
          "base_uri": "https://localhost:8080/"
        },
        "id": "dB7sQq_CI2xu",
        "outputId": "15d11e89-26c3-452d-b70a-664896ebedde"
      },
      "source": [
        "list_time = [time_svm, time_nb, time_pa]\n",
        "list_time.sort()\n",
        "print('Sorted time ->', list_time)\n",
        "print('================================================================')\n",
        "print('Passive Agressive     |     Naive Bayes     |     SVM   ')\n",
        "print(time_pa,'   ',time_nb,'  ',time_svm)\n",
        "print('================================================================')\n",
        "if (time_pa < time_nb):\n",
        "  if (time_pa < time_svm):\n",
        "    print('Passive Aggresive is the fastest algorithm')\n",
        "if (time_nb<time_pa):\n",
        "  if (time_nb<time_svm):\n",
        "    print('Naive Bayes is the fastest algorithm')\n",
        "elif (time_svm<time_pa):\n",
        "  if (time_svm<time_nb):\n",
        "    print('SVM is the fastest algorithm')\n",
        "if (time_pa > time_nb):\n",
        "  if (time_pa > time_svm):\n",
        "    print('Passive Aggresive is the slowest algorithm')\n",
        "if (time_nb>time_pa):\n",
        "  if (time_nb>time_svm):\n",
        "    print('Naive Bayes is the slowest algorithm')\n",
        "elif (time_svm>time_pa):\n",
        "  if (time_svm>time_nb):\n",
        "    print('SVM is the slowest algorithm')"
      ],
      "execution_count": null,
      "outputs": [
        {
          "output_type": "stream",
          "text": [
            "Sorted time -> [0.035514399998646695, 0.12746609800160513, 61.561791978001565]\n",
            "================================================================\n",
            "Passive Agressive     |     Naive Bayes     |     SVM   \n",
            "0.12746609800160513     0.035514399998646695    61.561791978001565\n",
            "================================================================\n",
            "Naive Bayes is the fastest algorithm\n",
            "SVM is the slowest algorithm\n"
          ],
          "name": "stdout"
        }
      ]
    },
    {
      "cell_type": "code",
      "metadata": {
        "colab": {
          "base_uri": "https://localhost:8080/"
        },
        "id": "kp9pvG38KNRi",
        "outputId": "c7737bf2-f1da-4bd4-b8f0-f43ec826b8b6"
      },
      "source": [
        "list_acc = [acc1,acc2,acc3]\n",
        "list_acc.sort()\n",
        "print('Sorted acc ->', list_acc)\n",
        "print('==================================================')\n",
        "print('Passive Agressive   |   Naive Bayes   |   SVM   ')\n",
        "print('    ',acc1,'%             ',+ acc2,'%       ', acc3,'%')\n",
        "print('==================================================')\n",
        "if (acc1 < acc2):\n",
        "  if (acc1 < acc3):\n",
        "    print('Passive Aggresive has the least accuracy')\n",
        "if (acc2<acc1):\n",
        "  if (acc2<acc3):\n",
        "    print('Naive Bayes has the least accuracy')\n",
        "elif (acc3<acc1):\n",
        "  if (acc3<acc2):\n",
        "    print('SVM has the least accuracy')\n",
        "if (acc1 > acc2):\n",
        "  if (acc1 > acc3):\n",
        "    print('Passive Aggresive has the most accuracy')\n",
        "if (acc2>acc1):\n",
        "  if (acc2>acc3):\n",
        "    print('Naive Bayes has the most accuracy')\n",
        "elif (acc3>acc1):\n",
        "  if (acc3>acc2):\n",
        "    print('SVM has the most accuracy')"
      ],
      "execution_count": null,
      "outputs": [
        {
          "output_type": "stream",
          "text": [
            "Sorted acc -> [82.64, 93.21, 94.24]\n",
            "==================================================\n",
            "Passive Agressive   |   Naive Bayes   |   SVM   \n",
            "     94.24 %              82.64 %        93.21 %\n",
            "==================================================\n",
            "Naive Bayes has the least accuracy\n",
            "Passive Aggresive has the most accuracy\n"
          ],
          "name": "stdout"
        }
      ]
    }
  ]
}